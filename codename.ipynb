{
 "cells": [
  {
   "cell_type": "code",
   "execution_count": 19,
   "id": "f621780d",
   "metadata": {},
   "outputs": [],
   "source": [
    "import numpy as np"
   ]
  },
  {
   "cell_type": "code",
   "execution_count": null,
   "id": "2acb0f5e",
   "metadata": {},
   "outputs": [],
   "source": [
    "with open('wordlist.txt', 'r', encoding='utf-8') as wordlist_file:\n",
    "    wordlist_content = wordlist_file.read()"
   ]
  },
  {
   "cell_type": "code",
   "execution_count": 26,
   "id": "ba162f96",
   "metadata": {},
   "outputs": [
    {
     "name": "stdout",
     "output_type": "stream",
     "text": [
      "404\n"
     ]
    }
   ],
   "source": [
    "words = np.array(wordlist_content.split())\n",
    "print(len(words))"
   ]
  },
  {
   "cell_type": "code",
   "execution_count": null,
   "id": "62bcea9c",
   "metadata": {},
   "outputs": [
    {
     "name": "stdout",
     "output_type": "stream",
     "text": [
      "[[-1.  1.  0.  1.  1.]\n",
      " [ 0.  2.  0.  2.  2.]\n",
      " [ 0.  1.  2.  2.  0.]\n",
      " [ 0.  1.  2.  2.  1.]\n",
      " [ 2.  1.  2.  1.  1.]]\n"
     ]
    }
   ],
   "source": [
    "def generate_agent_board():\n",
    "    \"\"\"\n",
    "    Generates a 5x5 board with 9 blue agents, 9 red agents, and 1 black agent.\n",
    "    The board is represented as a numpy array.\n",
    "    \"\"\"\n",
    "\n",
    "    agents_board = np.zeros_like(np.empty((5, 5)))\n",
    "    indices_blue = np.random.choice(agents_board.size, 9, replace=False)\n",
    "    agents_board.flat[indices_blue] = 1\n",
    "\n",
    "    remaining_indices = np.flatnonzero(agents_board != 1)\n",
    "    indices_red = np.random.choice(remaining_indices, 9, replace=False)\n",
    "    agents_board.flat[indices_red] = 2\n",
    "\n",
    "    remaining_indices_2 = np.flatnonzero(agents_board == 0)\n",
    "    indices_black = np.random.choice(remaining_indices_2, 1, replace=False)\n",
    "    agents_board.flat[indices_black] = -1\n",
    "    \n",
    "    reteam agents_board\n",
    "\n",
    "print(generate_agent_board())\n"
   ]
  },
  {
   "cell_type": "code",
   "execution_count": null,
   "id": "213f3fa7",
   "metadata": {},
   "outputs": [
    {
     "name": "stdout",
     "output_type": "stream",
     "text": [
      "[['Tail' 'Post' 'Triangle' 'Olive' 'Opera']\n",
      " ['Cross' 'Pie' 'Force' 'Wall' 'Scorpion']\n",
      " ['Kid' 'Washer' 'Czech' 'Revolution' 'Straw']\n",
      " ['Racket' 'Park' 'Grass' 'Whip' 'Dance']\n",
      " ['Pyramid' 'Soldier' 'Disease' 'Mass' 'Night']]\n"
     ]
    }
   ],
   "source": [
    "def generate_player_board():\n",
    "    \"\"\"\n",
    "    Generates a 5x5 board with random words from the wordlist.\n",
    "    The board is represented as a numpy array.\n",
    "    \"\"\"\n",
    "    players_board = np.empty_like(np.empty((5, 5)), dtype='<U20')\n",
    "\n",
    "    for i in range(5):\n",
    "        for j in range(5):\n",
    "            word = np.random.choice(words)\n",
    "            while word in players_board:\n",
    "                word = np.random.choice(words)\n",
    "            players_board[i, j] = word\n",
    "    reteam players_board\n",
    "print(generate_player_board())"
   ]
  },
  {
   "cell_type": "code",
   "execution_count": null,
   "id": "ccddf883",
   "metadata": {},
   "outputs": [
    {
     "name": "stdout",
     "output_type": "stream",
     "text": [
      "You revealed the black agent! Game over.\n",
      "0\n"
     ]
    }
   ],
   "source": [
    "agents_board = generate_agent_board()\n",
    "players_board = generate_player_board()\n",
    "score_blue = 0\n",
    "score_red = 0\n",
    "game_finished = False\n",
    "team = 1\n",
    "while not game_finished:\n",
    "    print(f\"Current team: {'Blue' if team == 1 else 'Red'}\")\n",
    "    number_of_guesses = int(input(\"Enter the number of guesses allowed: \"))\n",
    "    for guess in range(number_of_guesses):\n",
    "        x, y = input(\"Enter coordinates (x y) to reveal a word: \").split()\n",
    "        x, y = int(x), int(y)\n",
    "        if agents_board[x, y] == 1:\n",
    "            print(\"You revealed a blue agent!\")\n",
    "            score_blue += 1\n",
    "            if team != 1:\n",
    "                break\n",
    "        elif agents_board[x, y] == 2:\n",
    "            print(\"You revealed a red agent!\")\n",
    "            score_red += 1\n",
    "            if team != 2:\n",
    "                break\n",
    "        elif agents_board[x, y] == -1:\n",
    "            print(\"You revealed the black agent! Game over.\")\n",
    "            game_finished = True\n",
    "            break\n",
    "        else:\n",
    "            print(\"You revealed a neutral word.\")\n",
    "    if not game_finished:\n",
    "        if score_blue >= 9 or score_red >= 9:\n",
    "            game_finished = True\n",
    "            if score_blue >= 9:\n",
    "                print(\"Blue team wins!\")\n",
    "            else:\n",
    "                print(\"Red team wins!\")\n",
    "        team = team % 2 + 1"
   ]
  },
  {
   "cell_type": "code",
   "execution_count": 77,
   "id": "14ada917",
   "metadata": {},
   "outputs": [],
   "source": [
    "team = 1"
   ]
  },
  {
   "cell_type": "code",
   "execution_count": null,
   "id": "025f0e62",
   "metadata": {},
   "outputs": [
    {
     "name": "stdout",
     "output_type": "stream",
     "text": [
      "2\n"
     ]
    }
   ],
   "source": [
    "\n",
    "\n",
    "\n",
    "print(team)"
   ]
  }
 ],
 "metadata": {
  "kernelspec": {
   "display_name": "py311ml",
   "language": "python",
   "name": "python3"
  },
  "language_info": {
   "codemirror_mode": {
    "name": "ipython",
    "version": 3
   },
   "file_extension": ".py",
   "mimetype": "text/x-python",
   "name": "python",
   "nbconvert_exporter": "python",
   "pygments_lexer": "ipython3",
   "version": "3.11.8"
  }
 },
 "nbformat": 4,
 "nbformat_minor": 5
}
